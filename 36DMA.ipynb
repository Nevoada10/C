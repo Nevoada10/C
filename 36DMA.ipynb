{
 "cells": [
  {
   "cell_type": "code",
   "execution_count": null,
   "metadata": {
    "vscode": {
     "languageId": "plaintext"
    }
   },
   "outputs": [],
   "source": [
    "// gcc 36DMA.c cs50.c -o 36DMA\n",
    "\n",
    "// Author: ~ Nevoada (Uriel Neves Silva)\n",
    "// Credits to professor David J. Malan (Harvard CS50)\n",
    "// Dinamic Memory Allocation\n",
    "\n",
    "#include \"cs50.h\" // Get // String implementatation\n",
    "#include <stdio.h> // Printf\n",
    "#include <string.h> // Strlen\n",
    "#include <ctype.h> // Is lower function\n",
    "#include <stdlib.h> // Contains malloc and free pototypes\n",
    "\n",
    "int main(void)\n",
    "{\n",
    "    char *s = get_string(\"Type in a string: \"); // String\n",
    "    char *t = malloc(strlen(s) + 1); // Allocate memory for t\n",
    "\n",
    "    for (int i=0; i<strlen(s); i++)\n",
    "    {\n",
    "        t[i] = s[i]; // Copying the string into t.\n",
    "    }\n",
    "\n",
    "\n",
    "}\n",
    "\n",
    "    // Input: s: hi!\n",
    "    // Output: s: Hi! t: Hi!\n",
    "    // Explanation: when copying s to t, we are copying the addresses..."
   ]
  },
  {
   "cell_type": "code",
   "execution_count": null,
   "metadata": {
    "vscode": {
     "languageId": "plaintext"
    }
   },
   "outputs": [],
   "source": [
    "// modification\n",
    "// DYNMIC MEMORY ALLOCATION\n",
    "// for that we will introduce malloc (memry allocation) and free (removing memory allocation)\n",
    "// Malloc is a frequent function that can result into errors. because they can fill the memory\n",
    "// if the free function is not being called in a program, making the computer freeze.\n",
    "\n",
    "#include \"cs50.h\" // Get // String implementatation\n",
    "#include <stdio.h> // Printf\n",
    "#include <string.h> // Strlen\n",
    "#include <ctype.h> // Is lower function\n",
    "#include <stdlib.h> // Contains malloc and free pototypes \n",
    "int main(void)\n",
    "{\n",
    "    char *s = get_string(\"Type in a string: \"); // String //\n",
    "    char *t = malloc(strlen(s) + 1); // Stores the address of an available chunk of memory; +1 for the null character\n",
    "\n",
    "    for (int i=0; n = strlen(s) + 1;  i++) // for (initialization; condition; increment) ; comma allows multiple expressions in initialization part.\n",
    "    {\n",
    "        t[i] = s[i]; // Copying the string into t.\n",
    "    }\n",
    "}\n",
    "\n",
    "// The idea is to use strcopy, however the function needs the source string to be copied, and the the address of the chunk of memmory\n",
    "// into which you can copy the string."
   ]
  }
 ],
 "metadata": {
  "language_info": {
   "name": "python"
  }
 },
 "nbformat": 4,
 "nbformat_minor": 2
}
