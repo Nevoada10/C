{
 "cells": [
  {
   "cell_type": "code",
   "execution_count": null,
   "metadata": {
    "vscode": {
     "languageId": "plaintext"
    }
   },
   "outputs": [],
   "source": [
    "// gcc -o notebook_code notebook_code.c\n",
    "// gcc -o <name_of_compiled_file> <name_of_c_file.c>\n",
    "\n",
    "// run: ./notebook_code\n",
    "// run2: /Users/urielnevessilva/PycharmProjects/C/notebook_code\n",
    "// run: it's the name of the compiled file\n",
    "\n",
    "// Author: ~ Nevoada (Uriel Neves Silva)\n",
    "// Credits to professor David J. Malan (Harvard CS50)\n",
    "\n",
    "// This ia a C program\n",
    "\n",
    "int main(void)\n",
    "{\n",
    "    printf(\"Hello World!\\n\");\n",
    "    return 0;\n",
    "\n",
    "}"
   ]
  }
 ],
 "metadata": {
  "language_info": {
   "name": "python"
  }
 },
 "nbformat": 4,
 "nbformat_minor": 2
}
